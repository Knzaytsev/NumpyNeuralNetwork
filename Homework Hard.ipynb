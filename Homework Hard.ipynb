{
 "cells": [
  {
   "cell_type": "code",
   "execution_count": 1,
   "metadata": {},
   "outputs": [],
   "source": [
    "import numpy as np\n",
    "\n",
    "from sklearn.metrics import classification_report\n",
    "\n",
    "import torch\n",
    "from torch.utils.data import DataLoader\n",
    "from torchvision.datasets import MNIST\n",
    "from torchvision import transforms\n",
    "\n",
    "import matplotlib.pyplot as plt\n",
    "\n",
    "from tqdm import tqdm\n",
    "\n",
    "from sklearn.metrics import accuracy_score\n",
    "\n",
    "import time"
   ]
  },
  {
   "cell_type": "markdown",
   "metadata": {},
   "source": [
    "# Домашка №1\n",
    "# Усложненная\n",
    "### Эта домашка нужна для лучшего понимания, но она будет сложнее из-за использования классов и, возможно, пока непривычной форме с классами.\n",
    "Абстракции в этой домашке будут очень полезны для понимания того, что происходит в торче. Эта домашка прокачает вас гораздо сильнее, но и выполнить ее будет труднее. Вам нужно будет описать несколько слоев: `Linear`, `ReLU`, `BCELoss`.  Реализация `Sigmoid` уже есть в `our_library.layers`. Реализовав слои выше вы сможете сделать n-слойную нейронную сеть с любым количеством слоев. Это получается за счет того, что вы описали всю необходимую логику:\n",
    "- Как нужно обработать входные данные и передать их дальше;\n",
    "- Принять градиент с последующего слоя, сделать `backward` для текущего слоя и передать градиент предыдущему слою;\n",
    "- Как обновить веса, если в слоев есть обучаемые веса.\n",
    "\n",
    "Присылайте свои недоделанные сложные домашки, пусть они не пойдут совсем в стол. Я или ассистенты посмотрят, мы обсудим и доделаем.  \n",
    "Поверьте, эта домашка стоит того, чтобы ее сделать!"
   ]
  },
  {
   "cell_type": "markdown",
   "metadata": {},
   "source": [
    "# Датасет\n",
    "Мы его просто загрузим и здесь пока будет какая-то торчовая магия, которую мы разберем на следующем занятии"
   ]
  },
  {
   "cell_type": "markdown",
   "metadata": {},
   "source": [
    "### Некоторые магические трансформации, о которых пока не стоит заморачиваться\n",
    "1. Перевод картинки в тензор\n",
    "1. Нормализация картинки"
   ]
  },
  {
   "cell_type": "code",
   "execution_count": 2,
   "metadata": {},
   "outputs": [],
   "source": [
    "transform = transforms.Compose([\n",
    "    transforms.ToTensor(),\n",
    "    transforms.Normalize((0.1307,), (0.3081,))\n",
    "])"
   ]
  },
  {
   "cell_type": "markdown",
   "metadata": {},
   "source": [
    "## Загружаем датасет\n",
    "Конкретно эта часть кода понадобится нам один раз за курс и будет только в этой домашке"
   ]
  },
  {
   "cell_type": "code",
   "execution_count": 3,
   "metadata": {},
   "outputs": [],
   "source": [
    "train_dataset = MNIST('.', train=True, download=True, transform=transform)\n",
    "test_dataset = MNIST('.', train=False, transform=transform)"
   ]
  },
  {
   "cell_type": "markdown",
   "metadata": {},
   "source": [
    "## Переводим его в два класса\n",
    "Это нужно для упрощения задачи до бинарной классификации. В этой домашке мы будем отличать две цифры: 1 и 7."
   ]
  },
  {
   "cell_type": "code",
   "execution_count": 4,
   "metadata": {},
   "outputs": [],
   "source": [
    "train_dataset.data = train_dataset.data[(train_dataset.targets == 3) | (train_dataset.targets == 7)]\n",
    "train_dataset.targets = train_dataset.targets[(train_dataset.targets == 3) | (train_dataset.targets == 7)]\n",
    "\n",
    "test_dataset.data = test_dataset.data[(test_dataset.targets == 3) | (test_dataset.targets == 7)]\n",
    "test_dataset.targets = test_dataset.targets[(test_dataset.targets == 3) | (test_dataset.targets == 7)]\n",
    "\n",
    "train_dataset.targets = (train_dataset.targets == 7).long()\n",
    "test_dataset.targets = (test_dataset.targets == 7).long()"
   ]
  },
  {
   "cell_type": "markdown",
   "metadata": {},
   "source": [
    "## Оборачиваем в итератор данных\n",
    "Далее в курсе мы поговорим о том, что это такое более подробно, а дальше в этой тетрадке будет несколько полезных деталей.  \n",
    "Пока что будет достаточно понимать, что мы обернули наши данные в некоторую абстракцию, итерация по которой дает нам батчи данных из нашего датасета.  "
   ]
  },
  {
   "cell_type": "code",
   "execution_count": 5,
   "metadata": {},
   "outputs": [],
   "source": [
    "train_loader = DataLoader(train_dataset, batch_size=128, shuffle=True)\n",
    "test_loader = DataLoader(test_dataset, batch_size=128, shuffle=False)"
   ]
  },
  {
   "cell_type": "markdown",
   "metadata": {},
   "source": [
    "## Порисуем данные\n",
    "\n",
    "- классу 0 соответствует цифра 3\n",
    "- классу 1 соответствует цифра 7  \n",
    "\n",
    "Выбрал эти цифры, потому что на них хуже всего метрики"
   ]
  },
  {
   "cell_type": "code",
   "execution_count": 6,
   "metadata": {},
   "outputs": [
    {
     "data": {
      "image/png": "[encoded data removed]",
      "text/plain": [
       "<Figure size 432x504 with 25 Axes>"
      ]
     },
     "metadata": {
      "needs_background": "light"
     },
     "output_type": "display_data"
    }
   ],
   "source": [
    "X, y = next(iter(train_loader))\n",
    "X = X.numpy()\n",
    "y = y.numpy()\n",
    "\n",
    "plt.figure(figsize=(6, 7))\n",
    "for i in range(25):\n",
    "    plt.subplot(5, 5, i+1)\n",
    "    plt.imshow(X[i].reshape(28, 28), cmap=plt.cm.Greys_r)\n",
    "    plt.title(y[i])\n",
    "    plt.axis('off')"
   ]
  },
  {
   "cell_type": "markdown",
   "metadata": {},
   "source": [
    "# Итерация по датасету\n",
    "- x - батч с данными\n",
    "- y - батч с таргетами к этим данным"
   ]
  },
  {
   "cell_type": "code",
   "execution_count": 7,
   "metadata": {},
   "outputs": [],
   "source": [
    "for x, y in train_loader:\n",
    "    break"
   ]
  },
  {
   "cell_type": "markdown",
   "metadata": {},
   "source": [
    "### train_loader это итератор, при проходе по которому будут выдаваться батчи данных"
   ]
  },
  {
   "cell_type": "markdown",
   "metadata": {},
   "source": [
    "## Размерность x\n",
    "- 128 - размер батча\n",
    "- 1 - количество каналов, у нас чернобелые картинки, поэтому канал 1\n",
    "- 28 - количество пикселей в длину\n",
    "- 28 - количество пикселей в ширину"
   ]
  },
  {
   "cell_type": "code",
   "execution_count": 8,
   "metadata": {},
   "outputs": [
    {
     "data": {
      "text/plain": [
       "torch.Size([128, 1, 28, 28])"
      ]
     },
     "execution_count": 8,
     "metadata": {},
     "output_type": "execute_result"
    }
   ],
   "source": [
    "x.shape"
   ]
  },
  {
   "cell_type": "code",
   "execution_count": 9,
   "metadata": {},
   "outputs": [
    {
     "data": {
      "text/plain": [
       "tensor([[[[-0.4242, -0.4242, -0.4242,  ..., -0.4242, -0.4242, -0.4242],\n",
       "          [-0.4242, -0.4242, -0.4242,  ..., -0.4242, -0.4242, -0.4242],\n",
       "          [-0.4242, -0.4242, -0.4242,  ..., -0.4242, -0.4242, -0.4242],\n",
       "          ...,\n",
       "          [-0.4242, -0.4242, -0.4242,  ..., -0.4242, -0.4242, -0.4242],\n",
       "          [-0.4242, -0.4242, -0.4242,  ..., -0.4242, -0.4242, -0.4242],\n",
       "          [-0.4242, -0.4242, -0.4242,  ..., -0.4242, -0.4242, -0.4242]]],\n",
       "\n",
       "\n",
       "        [[[-0.4242, -0.4242, -0.4242,  ..., -0.4242, -0.4242, -0.4242],\n",
       "          [-0.4242, -0.4242, -0.4242,  ..., -0.4242, -0.4242, -0.4242],\n",
       "          [-0.4242, -0.4242, -0.4242,  ..., -0.4242, -0.4242, -0.4242],\n",
       "          ...,\n",
       "          [-0.4242, -0.4242, -0.4242,  ..., -0.4242, -0.4242, -0.4242],\n",
       "          [-0.4242, -0.4242, -0.4242,  ..., -0.4242, -0.4242, -0.4242],\n",
       "          [-0.4242, -0.4242, -0.4242,  ..., -0.4242, -0.4242, -0.4242]]],\n",
       "\n",
       "\n",
       "        [[[-0.4242, -0.4242, -0.4242,  ..., -0.4242, -0.4242, -0.4242],\n",
       "          [-0.4242, -0.4242, -0.4242,  ..., -0.4242, -0.4242, -0.4242],\n",
       "          [-0.4242, -0.4242, -0.4242,  ..., -0.4242, -0.4242, -0.4242],\n",
       "          ...,\n",
       "          [-0.4242, -0.4242, -0.4242,  ..., -0.4242, -0.4242, -0.4242],\n",
       "          [-0.4242, -0.4242, -0.4242,  ..., -0.4242, -0.4242, -0.4242],\n",
       "          [-0.4242, -0.4242, -0.4242,  ..., -0.4242, -0.4242, -0.4242]]],\n",
       "\n",
       "\n",
       "        ...,\n",
       "\n",
       "\n",
       "        [[[-0.4242, -0.4242, -0.4242,  ..., -0.4242, -0.4242, -0.4242],\n",
       "          [-0.4242, -0.4242, -0.4242,  ..., -0.4242, -0.4242, -0.4242],\n",
       "          [-0.4242, -0.4242, -0.4242,  ..., -0.4242, -0.4242, -0.4242],\n",
       "          ...,\n",
       "          [-0.4242, -0.4242, -0.4242,  ..., -0.4242, -0.4242, -0.4242],\n",
       "          [-0.4242, -0.4242, -0.4242,  ..., -0.4242, -0.4242, -0.4242],\n",
       "          [-0.4242, -0.4242, -0.4242,  ..., -0.4242, -0.4242, -0.4242]]],\n",
       "\n",
       "\n",
       "        [[[-0.4242, -0.4242, -0.4242,  ..., -0.4242, -0.4242, -0.4242],\n",
       "          [-0.4242, -0.4242, -0.4242,  ..., -0.4242, -0.4242, -0.4242],\n",
       "          [-0.4242, -0.4242, -0.4242,  ..., -0.4242, -0.4242, -0.4242],\n",
       "          ...,\n",
       "          [-0.4242, -0.4242, -0.4242,  ..., -0.4242, -0.4242, -0.4242],\n",
       "          [-0.4242, -0.4242, -0.4242,  ..., -0.4242, -0.4242, -0.4242],\n",
       "          [-0.4242, -0.4242, -0.4242,  ..., -0.4242, -0.4242, -0.4242]]],\n",
       "\n",
       "\n",
       "        [[[-0.4242, -0.4242, -0.4242,  ..., -0.4242, -0.4242, -0.4242],\n",
       "          [-0.4242, -0.4242, -0.4242,  ..., -0.4242, -0.4242, -0.4242],\n",
       "          [-0.4242, -0.4242, -0.4242,  ..., -0.4242, -0.4242, -0.4242],\n",
       "          ...,\n",
       "          [-0.4242, -0.4242, -0.4242,  ..., -0.4242, -0.4242, -0.4242],\n",
       "          [-0.4242, -0.4242, -0.4242,  ..., -0.4242, -0.4242, -0.4242],\n",
       "          [-0.4242, -0.4242, -0.4242,  ..., -0.4242, -0.4242, -0.4242]]]])"
      ]
     },
     "execution_count": 9,
     "metadata": {},
     "output_type": "execute_result"
    }
   ],
   "source": [
    "x"
   ]
  },
  {
   "cell_type": "markdown",
   "metadata": {},
   "source": [
    "## Просто выпрямим нашу матрицу в один вектор\n",
    "### То есть каждая фича в векторе это значение пикселя\n",
    "### Для нашей игрушечной задачи этого будет достаточно"
   ]
  },
  {
   "cell_type": "code",
   "execution_count": 10,
   "metadata": {},
   "outputs": [
    {
     "data": {
      "text/plain": [
       "(128, 784)"
      ]
     },
     "execution_count": 10,
     "metadata": {},
     "output_type": "execute_result"
    }
   ],
   "source": [
    "x.view(x.shape[0], -1).numpy().shape"
   ]
  },
  {
   "cell_type": "markdown",
   "metadata": {},
   "source": [
    "### x.numpy()\n",
    "Это перевод торчового тензора (некоторая абстракция, о которой мы будем говорить позже на курсе) в numpy массив"
   ]
  },
  {
   "cell_type": "code",
   "execution_count": 11,
   "metadata": {},
   "outputs": [],
   "source": [
    "for x, y in train_loader:\n",
    "    x = x.view(x.shape[0], -1).numpy()\n",
    "    y = y.numpy()\n",
    "    break"
   ]
  },
  {
   "cell_type": "code",
   "execution_count": 12,
   "metadata": {},
   "outputs": [
    {
     "data": {
      "text/plain": [
       "array([[-0.42421296, -0.42421296, -0.42421296, ..., -0.42421296,\n",
       "        -0.42421296, -0.42421296],\n",
       "       [-0.42421296, -0.42421296, -0.42421296, ..., -0.42421296,\n",
       "        -0.42421296, -0.42421296],\n",
       "       [-0.42421296, -0.42421296, -0.42421296, ..., -0.42421296,\n",
       "        -0.42421296, -0.42421296],\n",
       "       ...,\n",
       "       [-0.42421296, -0.42421296, -0.42421296, ..., -0.42421296,\n",
       "        -0.42421296, -0.42421296],\n",
       "       [-0.42421296, -0.42421296, -0.42421296, ..., -0.42421296,\n",
       "        -0.42421296, -0.42421296],\n",
       "       [-0.42421296, -0.42421296, -0.42421296, ..., -0.42421296,\n",
       "        -0.42421296, -0.42421296]], dtype=float32)"
      ]
     },
     "execution_count": 12,
     "metadata": {},
     "output_type": "execute_result"
    }
   ],
   "source": [
    "x"
   ]
  },
  {
   "cell_type": "markdown",
   "metadata": {},
   "source": [
    "### Размерность\n",
    "- количество примеров в батче\n",
    "- количество фичей"
   ]
  },
  {
   "cell_type": "code",
   "execution_count": 13,
   "metadata": {},
   "outputs": [
    {
     "data": {
      "text/plain": [
       "(128, 784)"
      ]
     },
     "execution_count": 13,
     "metadata": {},
     "output_type": "execute_result"
    }
   ],
   "source": [
    "x.shape"
   ]
  },
  {
   "cell_type": "markdown",
   "metadata": {},
   "source": [
    "# Таргеты\n",
    "- классу 0 соответствует цифра 3\n",
    "- классу 1 соответствует цифра 7"
   ]
  },
  {
   "cell_type": "code",
   "execution_count": 14,
   "metadata": {},
   "outputs": [
    {
     "data": {
      "text/plain": [
       "array([1, 0, 0, 1, 0, 0, 1, 1, 0, 0, 0, 1, 0, 0, 0, 0, 1, 1, 0, 1, 1, 1,\n",
       "       0, 1, 0, 0, 1, 1, 1, 0, 1, 1, 0, 1, 0, 0, 0, 0, 0, 0, 0, 0, 0, 0,\n",
       "       0, 1, 0, 1, 1, 0, 0, 1, 0, 0, 0, 1, 1, 0, 0, 0, 0, 1, 0, 0, 0, 0,\n",
       "       1, 0, 0, 0, 0, 1, 0, 1, 1, 0, 0, 0, 1, 1, 1, 0, 0, 0, 0, 0, 0, 0,\n",
       "       1, 0, 1, 1, 1, 1, 1, 1, 0, 1, 1, 0, 1, 0, 0, 1, 1, 0, 1, 0, 1, 0,\n",
       "       0, 1, 1, 0, 1, 0, 0, 1, 1, 1, 1, 1, 1, 1, 0, 0, 1, 0], dtype=int64)"
      ]
     },
     "execution_count": 14,
     "metadata": {},
     "output_type": "execute_result"
    }
   ],
   "source": [
    "y"
   ]
  },
  {
   "cell_type": "markdown",
   "metadata": {},
   "source": [
    "# Итерация по эпохам"
   ]
  },
  {
   "cell_type": "code",
   "execution_count": 15,
   "metadata": {},
   "outputs": [
    {
     "name": "stdout",
     "output_type": "stream",
     "text": [
      "Эпоха - 1, прошли - 100.00 % датасета\n",
      "Эпоха - 2, прошли - 100.00 % датасета\n",
      "Эпоха - 3, прошли - 100.00 % датасета\n"
     ]
    }
   ],
   "source": [
    "# количество эпох - полных проходов по датасету\n",
    "epochs = 3\n",
    "\n",
    "for n_epoch in range(epochs):\n",
    "    \n",
    "    dataset_passed_samples = 0\n",
    "    \n",
    "    for x, y in train_loader:\n",
    "        \n",
    "        # вот здесь мы могли бы как-то манипулировать с данными\n",
    "        # например, учить, но пока этого делать не будет\n",
    "        # только демонстрация\n",
    "        \n",
    "        time.sleep(0.01)\n",
    "        \n",
    "        dataset_passed_samples += x.shape[0]\n",
    "        \n",
    "        dataset_passed_percent = dataset_passed_samples * 100 / train_loader.dataset.data.shape[0]\n",
    "        \n",
    "        print(f'Эпоха - {n_epoch + 1}, прошли - {dataset_passed_percent:.2f} % датасета', end='\\r')\n",
    "        \n",
    "    print('\\r')"
   ]
  },
  {
   "cell_type": "markdown",
   "metadata": {},
   "source": [
    "# Небольшие пояснения по numpy"
   ]
  },
  {
   "cell_type": "code",
   "execution_count": 16,
   "metadata": {},
   "outputs": [
    {
     "data": {
      "text/plain": [
       "array([[0.69104276, 0.35130898, 0.09860825, ..., 0.32923169, 0.46502192,\n",
       "        0.95792131],\n",
       "       [0.22491232, 0.38375809, 0.7482604 , ..., 0.89548545, 0.45618644,\n",
       "        0.4239114 ],\n",
       "       [0.71873826, 0.46563739, 0.98215084, ..., 0.91678264, 0.98305076,\n",
       "        0.76466501],\n",
       "       ...,\n",
       "       [0.18271593, 0.98765115, 0.56484612, ..., 0.39779351, 0.44507181,\n",
       "        0.00313623],\n",
       "       [0.61515638, 0.71729922, 0.93623196, ..., 0.36293301, 0.47878314,\n",
       "        0.98109271],\n",
       "       [0.47962454, 0.85329664, 0.52742547, ..., 0.13638895, 0.85804094,\n",
       "        0.86866708]])"
      ]
     },
     "execution_count": 16,
     "metadata": {},
     "output_type": "execute_result"
    }
   ],
   "source": [
    "# таким образом мы создаем матрицу 64 на 512 с рандомными значениями\n",
    "x = np.random.rand(64, 512)\n",
    "x"
   ]
  },
  {
   "cell_type": "code",
   "execution_count": 17,
   "metadata": {},
   "outputs": [
    {
     "data": {
      "text/plain": [
       "array([[ 0.10798653, -0.92267117, -2.3068768 , ..., -1.00260004,\n",
       "        -0.54942534,  0.87462358],\n",
       "       [-1.44145908, -0.81047262,  0.2698894 , ...,  0.69150488,\n",
       "        -0.57674763, -0.67852994],\n",
       "       [ 0.18632666, -0.54752989,  0.9466099 , ...,  0.75360554,\n",
       "         0.94929427,  0.31639514],\n",
       "       ...,\n",
       "       [-1.66643753,  0.96302905, -0.2521508 , ..., -0.76358256,\n",
       "        -0.61143072, -5.76472487],\n",
       "       [-0.10746139,  0.18225598,  0.81063826, ..., -0.88181664,\n",
       "        -0.50727422,  0.94345459],\n",
       "       [-0.504712  ,  0.56946712, -0.36157009, ..., -1.97364263,\n",
       "         0.58313079,  0.61378717]])"
      ]
     },
     "execution_count": 17,
     "metadata": {},
     "output_type": "execute_result"
    }
   ],
   "source": [
    "# большинство функций применяются к каждому элементу массива\n",
    "# здесь мы каждый элемент массива возвели в квадрат и прибавили к получившемуся значению логарифм элемента матрицы \n",
    "x ** 2 + np.log(x)"
   ]
  },
  {
   "cell_type": "code",
   "execution_count": 18,
   "metadata": {},
   "outputs": [],
   "source": [
    "y = np.random.rand(512, 1024)\n",
    "# скалярное произведение\n",
    "res = np.dot(x, y)"
   ]
  },
  {
   "cell_type": "code",
   "execution_count": 19,
   "metadata": {},
   "outputs": [
    {
     "data": {
      "text/plain": [
       "array([[124.63372004, 124.76530461, 133.07948531, ..., 122.91390957,\n",
       "        131.70042556, 123.18716748],\n",
       "       [126.44069604, 127.93314443, 132.80275662, ..., 124.84905889,\n",
       "        132.89490211, 126.51429902],\n",
       "       [134.63735589, 136.16864974, 135.88543301, ..., 127.12611401,\n",
       "        132.34187919, 131.52726988],\n",
       "       ...,\n",
       "       [123.68124732, 123.81527458, 128.99945128, ..., 124.25648739,\n",
       "        127.43958168, 123.81448139],\n",
       "       [129.15774717, 131.58432441, 134.86400696, ..., 129.32136906,\n",
       "        133.53718278, 130.30891244],\n",
       "       [135.83193838, 140.26103071, 140.98750587, ..., 134.06613534,\n",
       "        134.47166145, 133.25021376]])"
      ]
     },
     "execution_count": 19,
     "metadata": {},
     "output_type": "execute_result"
    }
   ],
   "source": [
    "res"
   ]
  },
  {
   "cell_type": "code",
   "execution_count": 20,
   "metadata": {},
   "outputs": [
    {
     "data": {
      "text/plain": [
       "True"
      ]
     },
     "execution_count": 20,
     "metadata": {},
     "output_type": "execute_result"
    }
   ],
   "source": [
    "res.shape == (x.shape[0], y.shape[1])"
   ]
  },
  {
   "cell_type": "markdown",
   "metadata": {},
   "source": [
    "# Импортируем нашу библиотеку\n",
    "В ней реализованы некоторые полезные методы, в модуле `layers` есть реализация сигмоиды. Остальное вам смотреть необязательно, это некоторые дополнения, упрощающие вам жизнь."
   ]
  },
  {
   "cell_type": "code",
   "execution_count": 21,
   "metadata": {},
   "outputs": [],
   "source": [
    "from our_library import layers, wrapper, tools"
   ]
  },
  {
   "cell_type": "markdown",
   "metadata": {},
   "source": [
    "## Реализуйте слои:\n",
    "- Linear - линейная трансформация (не забудьте, что у нас в этом слое как раз есть обучаемые параметры)\n",
    "- ReLU\n",
    "- BCELoss - Binary Cross Entropy\n",
    "\n",
    "\n",
    "## Вы можете реализовать как здесь, так и в файла layers\n",
    "\n",
    "- TIP: np.expand_dims(y, 1) для BCE, так как BCE на вход принимает просто вектор размерностью (батч сайз, 1)\n",
    "\n",
    "## Также внутри layers есть код для Negative Log-Likelihood (сразу с софтмаксом) для примера"
   ]
  },
  {
   "cell_type": "markdown",
   "metadata": {},
   "source": [
    "# Пример c сигмоидой\n",
    "В `our_library.layers` также это есть"
   ]
  },
  {
   "cell_type": "code",
   "execution_count": 22,
   "metadata": {},
   "outputs": [],
   "source": [
    "class Sigmoid:\n",
    "\n",
    "    def __init__(self):\n",
    "\n",
    "        self._sigmoid_result = None\n",
    "\n",
    "    def forward(self, x):\n",
    "\n",
    "        self._sigmoid_result = 1 / (1 + np.exp(-x))\n",
    "\n",
    "        return self._sigmoid_result\n",
    "\n",
    "    def backward(self, grad):\n",
    "        \"\"\"\n",
    "        :grad: градиент от предыдущего слоя\n",
    "        :return: градиент для следующего слоя\n",
    "        \"\"\"\n",
    "        new_grad = self._sigmoid_result * (1 - self._sigmoid_result) * grad\n",
    "\n",
    "        return new_grad\n",
    "\n",
    "    def step(self, learning_step):\n",
    "        pass"
   ]
  },
  {
   "cell_type": "markdown",
   "metadata": {},
   "source": [
    "# Тестирование"
   ]
  },
  {
   "cell_type": "code",
   "execution_count": 23,
   "metadata": {},
   "outputs": [],
   "source": [
    "x = np.array([[0.91551091, 0.15073826, 0.77137556, 0.59352491],\n",
    "              [0.81126142, 0.1194849 , 0.29651178, 0.19066982]])\n",
    "\n",
    "correct_forward_result = np.array([[0.71412654, 0.53761337, 0.68381838, 0.64417351],\n",
    "                                   [0.69237824, 0.52983574, 0.57358957, 0.54752357]])\n",
    "\n",
    "correct_backward_result = np.array([[0.20414982, 0.24858523, 0.2162108 , 0.229214  ],\n",
    "                                    [0.21299061, 0.24910983, 0.24458457, 0.24774151]])"
   ]
  },
  {
   "cell_type": "code",
   "execution_count": 24,
   "metadata": {},
   "outputs": [],
   "source": [
    "sigmoid_layer = Sigmoid()\n",
    "forward_result = sigmoid_layer.forward(x)\n",
    "backward_result = sigmoid_layer.backward(np.ones_like(x))"
   ]
  },
  {
   "cell_type": "code",
   "execution_count": 25,
   "metadata": {},
   "outputs": [],
   "source": [
    "# значения должны быть близкими\n",
    "assert np.allclose(correct_forward_result, forward_result)"
   ]
  },
  {
   "cell_type": "code",
   "execution_count": 26,
   "metadata": {},
   "outputs": [],
   "source": [
    "# значения должны быть близкими\n",
    "assert np.allclose(correct_backward_result, backward_result)"
   ]
  },
  {
   "cell_type": "markdown",
   "metadata": {},
   "source": [
    "# Линейный слой"
   ]
  },
  {
   "cell_type": "code",
   "execution_count": 27,
   "metadata": {},
   "outputs": [],
   "source": [
    "class Linear:\n",
    "\n",
    "    def __init__(self, in_features, out_features):\n",
    "        \n",
    "        # инициализируем веса\n",
    "        self.weight = np.random.rand(in_features, out_features) * 0.01\n",
    "        self.bias = np.zeros(out_features)\n",
    "        \n",
    "        # сохраняем градиент для весов\n",
    "        self._grad_weight = None\n",
    "        self._grad_bias = None\n",
    "        \n",
    "        self._x = None\n",
    "        self._linear_result = None\n",
    "\n",
    "    def forward(self, x):\n",
    "        self._x = np.copy(x)\n",
    "        self._linear_result = np.dot(self._x, self.weight) + self.bias\n",
    "        return self._linear_result\n",
    "\n",
    "    def backward(self, grad):\n",
    "        self._grad_weight = np.dot(self._x.T, grad)\n",
    "        self._grad_bias = np.dot(np.ones((self._x.shape[0])), grad)\n",
    "        return np.dot(grad, self.weight.T)\n",
    "\n",
    "    def step(self, learning_rate):\n",
    "        self.weight -= learning_rate * self._grad_weight\n",
    "        self.bias -= learning_rate * self._grad_bias"
   ]
  },
  {
   "cell_type": "markdown",
   "metadata": {},
   "source": [
    "# Тестирование"
   ]
  },
  {
   "cell_type": "code",
   "execution_count": 28,
   "metadata": {},
   "outputs": [],
   "source": [
    "correct_forward_result = np.array([[0.01148086, 0.01477317, 0.00917651],\n",
    "                                   [0.00887036, 0.00972334, 0.00526646]])\n",
    "\n",
    "previous_grad = np.array([[0.01595814, 0.85148336, 0.9980065 ],\n",
    "                          [0.73044998, 0.18287682, 0.41246361]])\n",
    "\n",
    "correct_backward_result = np.array([[0.01089683, 0.00842654, 0.00822628, 0.00729307],\n",
    "                                    [0.00958704, 0.00833055, 0.00209236, 0.00543544]])\n",
    "\n",
    "correct_grad_weight = np.array([[0.60719574, 0.92790321, 1.24830165],\n",
    "                                [0.08968325, 0.15020214, 0.19972094],\n",
    "                                [0.22889674, 0.71103859, 0.89213814],\n",
    "                                [0.14874632, 0.54024567, 0.67098608]])\n",
    "\n",
    "correct_grad_bias = np.array([0.74640812, 1.03436018, 1.41047011])"
   ]
  },
  {
   "cell_type": "code",
   "execution_count": 29,
   "metadata": {},
   "outputs": [],
   "source": [
    "linear = Linear(in_features=4, out_features=3)"
   ]
  },
  {
   "cell_type": "code",
   "execution_count": 30,
   "metadata": {},
   "outputs": [],
   "source": [
    "# так как внутри слоя мы объвяляем наши веса рандомно (домножая на 0.01), то давайте присвоим им для теста конкретные значения\n",
    "\n",
    "linear.weight = np.array([[0.00879391, 0.0075844 , 0.00430709],\n",
    "                          [0.00884834, 0.00921104, 0.00044317],\n",
    "                          [0.00011441, 0.00822498, 0.00122346],\n",
    "                          [0.00338301, 0.0001627 , 0.00711473]])\n",
    "\n",
    "linear.bias = np.array([0., 0., 0.])"
   ]
  },
  {
   "cell_type": "code",
   "execution_count": 31,
   "metadata": {},
   "outputs": [],
   "source": [
    "forward = linear.forward(x)\n",
    "backward = linear.backward(previous_grad)"
   ]
  },
  {
   "cell_type": "code",
   "execution_count": 32,
   "metadata": {},
   "outputs": [],
   "source": [
    "# значения должны быть близкими\n",
    "assert np.allclose(correct_forward_result, forward)"
   ]
  },
  {
   "cell_type": "code",
   "execution_count": 33,
   "metadata": {},
   "outputs": [],
   "source": [
    "# значения должны быть близкими\n",
    "assert np.allclose(correct_backward_result, backward)"
   ]
  },
  {
   "cell_type": "code",
   "execution_count": 34,
   "metadata": {},
   "outputs": [],
   "source": [
    "# значения должны быть близкими\n",
    "assert np.allclose(linear._grad_weight, correct_grad_weight)"
   ]
  },
  {
   "cell_type": "code",
   "execution_count": 35,
   "metadata": {},
   "outputs": [],
   "source": [
    "# значения должны быть близкими\n",
    "assert np.allclose(linear._grad_bias, correct_grad_bias)"
   ]
  },
  {
   "cell_type": "markdown",
   "metadata": {},
   "source": [
    "# ReLU"
   ]
  },
  {
   "cell_type": "code",
   "execution_count": 36,
   "metadata": {},
   "outputs": [],
   "source": [
    "class ReLU:\n",
    "\n",
    "    def __init__(self):\n",
    "        self._relu_result = None\n",
    "\n",
    "    def forward(self, x):\n",
    "        self._relu_result = np.maximum(x, 0)\n",
    "        return self._relu_result\n",
    "\n",
    "    def backward(self, prev_grad):\n",
    "        grad = np.copy(prev_grad)\n",
    "        grad[self._relu_result == 0] = 0\n",
    "        return grad\n",
    "\n",
    "    def step(self, learning_rate):\n",
    "        pass"
   ]
  },
  {
   "cell_type": "markdown",
   "metadata": {},
   "source": [
    "# Тестирование"
   ]
  },
  {
   "cell_type": "code",
   "execution_count": 37,
   "metadata": {},
   "outputs": [],
   "source": [
    "x = np.array([[ 0.86811233, -0.23718669, -0.18401917, -0.37591633],\n",
    "              [-0.40626018,  0.37746975, -0.46929233,  0.79067681]])\n",
    "\n",
    "correct_forward_result = np.array([[0.86811233, 0.        , 0.        , 0.        ],\n",
    "                                   [0.        , 0.37746975, 0.        , 0.79067681]])\n",
    "\n",
    "previous_grad = np.array([[0.22436157, 0.61897707, 0.67895832, 0.72428618],\n",
    "                          [0.71231319, 0.87345215, 0.91129578, 0.90625846]])\n",
    "\n",
    "correct_backward_result = np.array([[0.22436157, 0.        , 0.        , 0.        ],\n",
    "                                    [0.        , 0.87345215, 0.        , 0.90625846]])"
   ]
  },
  {
   "cell_type": "code",
   "execution_count": 38,
   "metadata": {},
   "outputs": [],
   "source": [
    "relu = ReLU()"
   ]
  },
  {
   "cell_type": "code",
   "execution_count": 39,
   "metadata": {},
   "outputs": [],
   "source": [
    "forward = relu.forward(x)\n",
    "backward = relu.backward(previous_grad)"
   ]
  },
  {
   "cell_type": "code",
   "execution_count": 40,
   "metadata": {},
   "outputs": [],
   "source": [
    "# значения должны быть близкими\n",
    "assert np.allclose(correct_forward_result, forward)"
   ]
  },
  {
   "cell_type": "code",
   "execution_count": 41,
   "metadata": {},
   "outputs": [],
   "source": [
    "# значения должны быть близкими\n",
    "assert np.allclose(correct_backward_result, backward)"
   ]
  },
  {
   "cell_type": "markdown",
   "metadata": {},
   "source": [
    "# BCE test"
   ]
  },
  {
   "cell_type": "markdown",
   "metadata": {},
   "source": [
    "### Не забудьте добавить np.expand_dims(y, 1) в forward"
   ]
  },
  {
   "cell_type": "code",
   "execution_count": 42,
   "metadata": {},
   "outputs": [],
   "source": [
    "class BCELoss:\n",
    "    def __init__(self):\n",
    "        self._y_hat = None\n",
    "        self._y = None\n",
    "        self._bce_result = None\n",
    "    \n",
    "    def forward(self, y_hat, y):\n",
    "        self._y_hat = np.copy(y_hat)\n",
    "        self._y = np.expand_dims(y, 1)\n",
    "        self._bce_result = -1 / self._y_hat.shape[0] * np.sum(self._y.T.dot(np.log(self._y_hat)) + (1 - self._y).T.dot(np.log(1 - self._y_hat)))\n",
    "        return self._bce_result\n",
    "\n",
    "    def backward(self):\n",
    "        return 1 / self._y_hat.shape[0] * (-(self._y / self._y_hat) + (1 - self._y) / (1 - self._y_hat))\n",
    "\n",
    "    def step(self, learning_rate):\n",
    "        pass"
   ]
  },
  {
   "cell_type": "markdown",
   "metadata": {},
   "source": [
    "# Тестирование"
   ]
  },
  {
   "cell_type": "code",
   "execution_count": 43,
   "metadata": {},
   "outputs": [],
   "source": [
    "x = np.array([[0.76242307],\n",
    "              [0.0908412 ],\n",
    "              [0.60176646],\n",
    "              [0.09606798]])\n",
    "\n",
    "y = np.array([1, 0, 1, 0])\n",
    "\n",
    "correct_forward_result = 0.24384403491500606\n",
    "\n",
    "correct_backward_result = np.array([[-0.32790194],\n",
    "                                    [ 0.27497946],\n",
    "                                    [-0.41544356],\n",
    "                                    [ 0.27656947]])"
   ]
  },
  {
   "cell_type": "code",
   "execution_count": 44,
   "metadata": {},
   "outputs": [],
   "source": [
    "loss = BCELoss()"
   ]
  },
  {
   "cell_type": "code",
   "execution_count": 45,
   "metadata": {},
   "outputs": [],
   "source": [
    "forward = loss.forward(x, y)\n",
    "backward = loss.backward()"
   ]
  },
  {
   "cell_type": "code",
   "execution_count": 46,
   "metadata": {},
   "outputs": [],
   "source": [
    "# значения должны быть близкими\n",
    "assert np.allclose(correct_forward_result, forward)"
   ]
  },
  {
   "cell_type": "code",
   "execution_count": 47,
   "metadata": {},
   "outputs": [],
   "source": [
    "# значения должны быть близкими\n",
    "assert np.allclose(correct_backward_result, backward)"
   ]
  },
  {
   "cell_type": "markdown",
   "metadata": {},
   "source": [
    "## Реализуйте обертку над слоями - нейронную сеть\n",
    "- TIP 1: modules - это список слоев, которые вы сделали выше. Порядок важен\n",
    "- TIP 2: обновление весов можно сделать циклом\n",
    "- TIP 3: forward идет в одну сторону по слоям, а backward в другую\n",
    "- TIP 4: В backward функции потерь мы не передаем предыдущий градиент, потому что это начало backward, то есть последний слой нашей сети\n",
    "- TIP 5: forward и backward ничего не должны отдавать, в них должны быть расчитаны градиенты для каждого слоя\n",
    "- TIP 6: в step нужно пройтись по всем слоям и обновить веса"
   ]
  },
  {
   "cell_type": "code",
   "execution_count": 48,
   "metadata": {},
   "outputs": [],
   "source": [
    "class NeuralNetwork:\n",
    "\n",
    "    def __init__(self, modules):\n",
    "\n",
    "        # список слоев\n",
    "        self.modules = modules\n",
    "\n",
    "    def forward(self, x):\n",
    "        forward = np.copy(x)\n",
    "        for module in self.modules:\n",
    "            forward = module.forward(forward)\n",
    "        return forward\n",
    "\n",
    "    def backward(self, grad):\n",
    "        \"\"\"\n",
    "        :grad: градиент от функции потерь\n",
    "        :return: возвращать ничего не потребуется\n",
    "        \"\"\"\n",
    "        for module in self.modules[::-1]:\n",
    "            grad = module.backward(grad)\n",
    "\n",
    "    def step(self, learning_rate):\n",
    "        for module in self.modules:\n",
    "            module.step(learning_rate)"
   ]
  },
  {
   "cell_type": "markdown",
   "metadata": {},
   "source": [
    "## Реализуйте обертку над моделью"
   ]
  },
  {
   "cell_type": "code",
   "execution_count": 49,
   "metadata": {},
   "outputs": [],
   "source": [
    "class MNISTWrapper(wrapper.Wrapper):\n",
    "\n",
    "    def train_batch(self, x, y):\n",
    "        \"\"\"\n",
    "        Нужно реализовать одну итерацию обучения модели:\n",
    "        1. Рассчет forward\n",
    "        2. Рассчет функции потерь\n",
    "        3. Рассчет backward от функции потерь\n",
    "        4. Рассчет backward по модели, передавая туда значение градиента по функции потерь\n",
    "        5. Обновление весов с помощью step\n",
    "        :param x: входные данные np.array with shape (batch_size, n_features)\n",
    "        :param y: предсказания np.array with shape (batch_size, n_classes)\n",
    "        :return:\n",
    "        loss_batch - значение функции потерь, просто скаляр\n",
    "        prediction - матрица предсказаний вашей модели\n",
    "\n",
    "        напомню важные штуки, которые знает наш класс:\n",
    "        self.model\n",
    "        self.loss\n",
    "        self.learning_rate\n",
    "        \"\"\"\n",
    "        prediction = self.model.forward(x)\n",
    "        loss_batch = self.loss.forward(prediction, y)\n",
    "        grad = self.loss.backward()\n",
    "        self.model.backward(grad)\n",
    "        self.model.step(self.learning_rate)\n",
    "        \n",
    "        return loss_batch, prediction"
   ]
  },
  {
   "cell_type": "code",
   "execution_count": 50,
   "metadata": {},
   "outputs": [],
   "source": [
    "# задайте гиперпараметры\n",
    "learning_rate = 0.01\n",
    "epochs = 10\n",
    "\n",
    "# задайте слои в свою нейронную сеть, например, 3 слоя\n",
    "neural_network = NeuralNetwork([Linear(784, 128), ReLU(), Linear(128, 1), Sigmoid()])\n",
    "\n",
    "loss = BCELoss()"
   ]
  },
  {
   "cell_type": "code",
   "execution_count": 51,
   "metadata": {},
   "outputs": [],
   "source": [
    "classifier = MNISTWrapper(model=neural_network,\n",
    "                          loss=loss,\n",
    "                          learning_rate=learning_rate)"
   ]
  },
  {
   "cell_type": "markdown",
   "metadata": {},
   "source": [
    "## Обучение модели"
   ]
  },
  {
   "cell_type": "code",
   "execution_count": 52,
   "metadata": {},
   "outputs": [
    {
     "name": "stderr",
     "output_type": "stream",
     "text": [
      "Epoch 1: 100%|███████████████████████████████████████████████| 97/97 [00:08<00:00, 10.86it/s, loss=0.638, metric=0.666]\n",
      "Epoch 2: 100%|███████████████████████████████████████████████| 97/97 [00:09<00:00, 10.22it/s, loss=0.459, metric=0.896]\n",
      "Epoch 3: 100%|███████████████████████████████████████████████| 97/97 [00:10<00:00,  9.62it/s, loss=0.177, metric=0.964]\n",
      "Epoch 4: 100%|███████████████████████████████████████████████| 97/97 [00:10<00:00,  9.60it/s, loss=0.096, metric=0.973]\n",
      "Epoch 5: 100%|██████████████████████████████████████████████| 97/97 [00:09<00:00,  9.85it/s, loss=0.0778, metric=0.977]\n",
      "Epoch 6: 100%|██████████████████████████████████████████████| 97/97 [00:10<00:00,  9.60it/s, loss=0.0691, metric=0.979]\n",
      "Epoch 7: 100%|███████████████████████████████████████████████| 97/97 [00:09<00:00,  9.94it/s, loss=0.0633, metric=0.98]\n",
      "Epoch 8: 100%|██████████████████████████████████████████████| 97/97 [00:09<00:00,  9.79it/s, loss=0.0594, metric=0.981]\n",
      "Epoch 9: 100%|██████████████████████████████████████████████| 97/97 [00:10<00:00,  9.64it/s, loss=0.0562, metric=0.983]\n",
      "Epoch 10: 100%|█████████████████████████████████████████████| 97/97 [00:09<00:00, 10.34it/s, loss=0.0536, metric=0.983]\n"
     ]
    }
   ],
   "source": [
    "classifier.train(train_loader, test_loader, epochs=epochs)"
   ]
  },
  {
   "cell_type": "code",
   "execution_count": 53,
   "metadata": {},
   "outputs": [
    {
     "data": {
      "image/png": "[encoded data removed]",
      "text/plain": [
       "<Figure size 1152x864 with 2 Axes>"
      ]
     },
     "metadata": {
      "needs_background": "light"
     },
     "output_type": "display_data"
    }
   ],
   "source": [
    "classifier.plot()"
   ]
  },
  {
   "cell_type": "code",
   "execution_count": null,
   "metadata": {},
   "outputs": [],
   "source": []
  }
 ],
 "metadata": {
  "kernelspec": {
   "display_name": "Python 3",
   "language": "python",
   "name": "python3"
  },
  "language_info": {
   "codemirror_mode": {
    "name": "ipython",
    "version": 3
   },
   "file_extension": ".py",
   "mimetype": "text/x-python",
   "name": "python",
   "nbconvert_exporter": "python",
   "pygments_lexer": "ipython3",
   "version": "3.7.6"
  }
 },
 "nbformat": 4,
 "nbformat_minor": 2
}
